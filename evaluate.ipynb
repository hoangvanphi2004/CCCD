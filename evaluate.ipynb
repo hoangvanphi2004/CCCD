{
 "cells": [
  {
   "cell_type": "code",
   "execution_count": 163,
   "metadata": {},
   "outputs": [],
   "source": [
    "from model import Model\n",
    "import torch\n",
    "from torchvision.io import read_image\n",
    "from torchvision.transforms import Resize, v2;\n",
    "import numpy\n",
    "import matplotlib.pyplot as plt\n",
    "from check_orientation.pre_trained_models import create_model\n",
    "import albumentations as albu"
   ]
  },
  {
   "cell_type": "code",
   "execution_count": 164,
   "metadata": {},
   "outputs": [],
   "source": [
    "model = Model()\n",
    "model.load_state_dict(torch.load('model_detect_corner.pth', weights_only=True))\n",
    "model.freeze()"
   ]
  },
  {
   "cell_type": "code",
   "execution_count": 165,
   "metadata": {},
   "outputs": [],
   "source": [
    "img = read_image(\"../z5950231396311_599a19af9948f46988ac81929edf00e1.jpg\")\n",
    "original_img = img;\n",
    "img = Resize((640, 640))(img)\n",
    "prediction = model(img.unsqueeze(0))"
   ]
  },
  {
   "cell_type": "code",
   "execution_count": null,
   "metadata": {},
   "outputs": [],
   "source": [
    "print(prediction)"
   ]
  },
  {
   "cell_type": "code",
   "execution_count": null,
   "metadata": {},
   "outputs": [],
   "source": [
    "img = img.numpy().transpose(1, 2, 0)\n",
    "plt.imshow(img)\n",
    "# box = []\n",
    "# for i in range(4):\n",
    "#     box.append(prediction[0][\"boxes\"][prediction[0][\"labels\"] == i + 1][0])\n",
    "# box = numpy.stack(box, axis=0)\n",
    "box = prediction[0][\"boxes\"][prediction[0][\"scores\"] > 0.8]\n",
    "plt.scatter(box[:, 0] + 30, box[:, 1] + 30, label=\"0\");\n",
    "plt.scatter(box[:, 2] - 30, box[:, 3] - 30, label=\"1\");\n",
    "plt.legend()\n",
    "plt.show()"
   ]
  },
  {
   "cell_type": "code",
   "execution_count": null,
   "metadata": {},
   "outputs": [],
   "source": [
    "plt.imshow(img)\n",
    "cls = prediction[0][\"labels\"]\n",
    "for i in range(4):\n",
    "    plt.scatter(box[i, 0] + 30, box[i, 1] + 30, label=f\"{cls[i]}\");\n",
    "plt.legend()\n",
    "plt.show()"
   ]
  },
  {
   "cell_type": "code",
   "execution_count": 169,
   "metadata": {},
   "outputs": [],
   "source": [
    "box = box[:, 0:2]"
   ]
  },
  {
   "cell_type": "code",
   "execution_count": null,
   "metadata": {},
   "outputs": [],
   "source": [
    "def turn_position(pivot_index, p_list):\n",
    "    # Assume that pivot_index is the pivot\n",
    "    def is_clockwise(vec1, vec2):\n",
    "        # vec1 is previous\n",
    "        # vec2 is next\n",
    "        return (vec1[0] * vec2[1] - vec2[0] * vec1[1]) > 0\n",
    "    \n",
    "    def turn_to_vec(p1, p2):\n",
    "        return [p2[0] - p1[0], p2[1] - p1[1]];\n",
    "\n",
    "    def find_line(p1, p2):\n",
    "        if(p1[0] - p2[0] == 0):\n",
    "            wx = 1\n",
    "            wy = 0\n",
    "            b = -p1[0]\n",
    "        else:\n",
    "            wx = (p1[1] - p2[1]) / (p1[0] - p2[0]);\n",
    "            wy = -1;\n",
    "            b = p1[1] - wx * p1[0];\n",
    "        return wx, wy, b;\n",
    "\n",
    "    def find_other_twos_index(p1, p2):\n",
    "        p3_id = None\n",
    "        p4_id = None\n",
    "        for i in range(4):\n",
    "            if (p_list[i] != p1).any() and (p_list[i] != p2).any():\n",
    "                if p3_id == None:\n",
    "                    p3_id = i;\n",
    "                else:\n",
    "                    p4_id = i;\n",
    "\n",
    "        return p3_id, p4_id\n",
    "    def check_diag(p1, p2):\n",
    "        p3_id, p4_id = find_other_twos_index(p1, p2);\n",
    "        p3 = p_list[p3_id]\n",
    "        p4 = p_list[p4_id]\n",
    "\n",
    "        wx, wy, b = find_line(p1, p2)\n",
    "        mag1 = wx * p3[0] + wy * p3[1] + b;\n",
    "        mag2 = wx * p4[0] + wy * p4[1] + b;\n",
    "        return (mag1 * mag2 < 0)\n",
    "    \n",
    "    res = 0;\n",
    "    position = [None for i in range(4)];\n",
    "    for other_index in range(4):\n",
    "        if (p_list[other_index] != p_list[pivot_index]).any():\n",
    "            if check_diag(p_list[pivot_index], p_list[other_index]) == True:\n",
    "                print(other_index, pivot_index)\n",
    "                position[0] = pivot_index\n",
    "                position[2] = other_index;\n",
    "\n",
    "                p3_id, p4_id = find_other_twos_index(p_list[pivot_index], p_list[other_index]);\n",
    "                p3 = p_list[p3_id]\n",
    "                p4 = p_list[p4_id]\n",
    "\n",
    "                vec1 = turn_to_vec(p_list[pivot_index], p_list[other_index])\n",
    "                vec2 = turn_to_vec(p_list[pivot_index], p3)\n",
    "\n",
    "                if is_clockwise(vec1 = vec1, vec2 = vec2):\n",
    "                    position[3] = p3_id;\n",
    "                    position[1] = p4_id;\n",
    "                else:\n",
    "                    position[3] = p4_id;\n",
    "                    position[1] = p3_id;\n",
    "                \n",
    "                return position;\n",
    "print(box)\n",
    "print(turn_position(0, box))\n",
    "box = numpy.copy(box[turn_position(0, box), :])\n",
    "print(box)"
   ]
  },
  {
   "cell_type": "code",
   "execution_count": null,
   "metadata": {},
   "outputs": [],
   "source": [
    "original_img = original_img.numpy().transpose(1, 2, 0)\n",
    "print(img.shape, original_img.shape)\n",
    "print(box)\n",
    "box[:, 0] = (box[:, 0] + 30) * original_img.shape[1] / img.shape[1]\n",
    "box[:, 1] = (box[:, 1] + 30) * original_img.shape[0] / img.shape[0]\n",
    "print(box)\n",
    "\n",
    "plt.imshow(original_img)\n",
    "for i in range(4):\n",
    "    plt.scatter(box[i, 0], box[i, 1], label=f\"{i}\");\n",
    "plt.legend()\n",
    "plt.show()"
   ]
  },
  {
   "cell_type": "code",
   "execution_count": null,
   "metadata": {},
   "outputs": [],
   "source": [
    "import cv2\n",
    "\n",
    "turn_array = [[0, 0], [850, 0], [850, 550], [0, 550]]\n",
    "img_res = None\n",
    "\n",
    "for i in range(4):\n",
    "    turn_array = turn_array[1:] + [turn_array[0]]\n",
    "    points1 = numpy.array(turn_array, dtype=numpy.double)\n",
    "    points2 = numpy.array(box[:, 0:2])\n",
    "\n",
    "    h, mask = cv2.findHomography(points2, points1, cv2.RANSAC)\n",
    "    img_res = cv2.warpPerspective(original_img, h, (850, 550))\n",
    "    \n",
    "    plt.imshow(img_res)\n",
    "    plt.show()"
   ]
  },
  {
   "cell_type": "code",
   "execution_count": null,
   "metadata": {},
   "outputs": [],
   "source": [
    "model = create_model(\"swsl_resnext50_32x4d\")\n",
    "model.eval()\n",
    "transform = albu.Compose([albu.Resize(height=224, width=224), albu.Normalize(p=1)], p=1)\n",
    "prediction = model(torch.tensor(transform(image = img_res)['image']).permute(2, 0, 1).unsqueeze(0));\n",
    "\n",
    "plt.imshow(img_res)\n",
    "plt.show()\n",
    "\n",
    "print(prediction)\n",
    "turn_time = torch.argmax(prediction)\n",
    "\n",
    "\n",
    "for i in range(turn_time):\n",
    "    turn_array = turn_array[1:] + [turn_array[0]]\n",
    "    points1 = numpy.array(turn_array, dtype=numpy.double)\n",
    "    points2 = numpy.array(box[:, 0:2])\n",
    "\n",
    "    h, mask = cv2.findHomography(points2, points1, cv2.RANSAC)\n",
    "    img_res = cv2.warpPerspective(original_img, h, (850, 550))\n",
    "    \n",
    "plt.imshow(img_res)\n",
    "plt.show()\n"
   ]
  }
 ],
 "metadata": {
  "kernelspec": {
   "display_name": "Python 3",
   "language": "python",
   "name": "python3"
  },
  "language_info": {
   "codemirror_mode": {
    "name": "ipython",
    "version": 3
   },
   "file_extension": ".py",
   "mimetype": "text/x-python",
   "name": "python",
   "nbconvert_exporter": "python",
   "pygments_lexer": "ipython3",
   "version": "3.11.9"
  }
 },
 "nbformat": 4,
 "nbformat_minor": 2
}
